{
 "cells": [
  {
   "cell_type": "code",
   "execution_count": 1,
   "id": "mobile-narrative",
   "metadata": {},
   "outputs": [],
   "source": [
    "# This Python 3 environment comes with many helpful analytics libraries installed\n",
    "# It is defined by the kaggle/python Docker image: https://github.com/kaggle/docker-python\n",
    "# For example, here's several helpful packages to load\n",
    "\n",
    "import numpy as np # linear algebra\n",
    "import pandas as pd # data processing, CSV file I/O (e.g. pd.read_csv)\n",
    "\n",
    "# Input data files are available in the read-only \"../input/\" directory\n",
    "# For example, running this (by clicking run or pressing Shift+Enter) will list all files under the input directory\n",
    "\n",
    "import os\n",
    "for dirname, _, filenames in os.walk('/kaggle/input'):\n",
    "    for filename in filenames:\n",
    "        print(os.path.join(dirname, filename))\n",
    "\n",
    "# You can write up to 20GB to the current directory (/kaggle/working/) that gets preserved as output when you create a version using \"Save & Run All\" \n",
    "# You can also write temporary files to /kaggle/temp/, but they won't be saved outside of the current session"
   ]
  },
  {
   "cell_type": "code",
   "execution_count": 3,
   "id": "enclosed-recognition",
   "metadata": {},
   "outputs": [],
   "source": [
    "import numpy as np # linear algebra\n",
    "import pandas as pd # data processing, CSV file I/O (e.g. pd.read_csv)\n",
    "\n",
    "# Tensorflow imports\n",
    "\n",
    "# for building model\n",
    "import tensorflow as tf\n",
    "from tensorflow import keras\n",
    "from tensorflow.keras import layers, models\n",
    "from tensorflow.keras.models import Sequential\n",
    "from tensorflow.keras.layers import Embedding, LSTM, Flatten, GlobalMaxPooling1D, Dense, Dropout\n",
    "\n",
    "# for Padding\n",
    "from tensorflow.keras import preprocessing\n",
    "from tensorflow.keras.preprocessing.sequence import pad_sequences\n",
    "\n",
    "# for Tokenization \n",
    "from tensorflow.keras.preprocessing.text import Tokenizer\n",
    "\n",
    "# NLTK imports\n",
    "import nltk\n",
    "from nltk.stem import WordNetLemmatizer\n",
    "from nltk.corpus import wordnet\n",
    "from nltk.corpus import stopwords\n",
    "from nltk.tokenize import word_tokenize\n",
    "\n",
    "# For visualization\n",
    "import matplotlib.pyplot as plt\n",
    "import seaborn as sns\n",
    "\n",
    "# For regular expressions\n",
    "import re\n",
    "\n",
    "# For data preprocessing\n",
    "from string import punctuation, digits"
   ]
  },
  {
   "cell_type": "code",
   "execution_count": 6,
   "id": "baking-cooling",
   "metadata": {},
   "outputs": [
    {
     "name": "stdout",
     "output_type": "stream",
     "text": [
      "train dataset shape >> (41157, 6)\n",
      "test dataset shape >> (3798, 6)\n"
     ]
    }
   ],
   "source": [
    "train_df = pd.read_csv(\"Corona_NLP_train.csv\", encoding=\"Latin-1\")\n",
    "test_df = pd.read_csv(\"Corona_NLP_test.csv\", encoding=\"Latin-1\")\n",
    "\n",
    "print(f\"train dataset shape >> {train_df.shape}\")\n",
    "print(f\"test dataset shape >> {test_df.shape}\")"
   ]
  },
  {
   "cell_type": "code",
   "execution_count": 7,
   "id": "reasonable-target",
   "metadata": {},
   "outputs": [],
   "source": [
    "# Creat new dataset (which will consist from 2 columns: label, data)\n",
    "\n",
    "def data_label_split(dataset):\n",
    "    data = dataset['OriginalTweet']\n",
    "    label = dataset['Sentiment']\n",
    "    return data,label\n",
    "\n",
    "train_data,train_label = data_label_split(train_df)\n",
    "test_data,test_label = data_label_split(test_df)\n",
    "\n",
    "train = pd.DataFrame({\n",
    "    'label':train_label,\n",
    "    'data':train_data\n",
    "})\n",
    "\n",
    "test = pd.DataFrame({\n",
    "    'label':test_label,\n",
    "    'data':test_data\n",
    "})\n",
    "\n",
    "# Define function which will make new labels\n",
    "\n",
    "def reassign_label(x):\n",
    "    if x == \"Extremely Positive\" or x == \"Positive\":\n",
    "        return 1\n",
    "    elif x ==\"Extremely Negative\" or x ==\"Negative\":\n",
    "        return -1\n",
    "    elif x ==\"Neutral\":\n",
    "        return 0\n",
    "\n",
    "train.label = train.label.apply(lambda x:reassign_label(x))\n",
    "test.label = test.label.apply(lambda x:reassign_label(x))"
   ]
  },
  {
   "cell_type": "code",
   "execution_count": 8,
   "id": "floating-postage",
   "metadata": {},
   "outputs": [],
   "source": [
    "def remove_punctuation(s):\n",
    "    list_punctuation = list(punctuation)\n",
    "    for i in list_punctuation:\n",
    "        s = s.replace(i,'')\n",
    "    return s.lower()\n",
    "\n",
    "def clean_sentence(sentence):\n",
    "    sentence = sentence.lower()\n",
    "    sentence = re.sub(r'(\\W)\\1{2,}', r'\\1', sentence) \n",
    "    sentence = re.sub(r'(\\w)\\1{2,}', r'\\1\\1', sentence)\n",
    "    sentence = re.sub(r'(?P<url>https?://[^\\s]+)', '', sentence) # remove URL adresses\n",
    "    sentence = re.sub(r\"\\@(\\w+)\", '', sentence) # remove usernames\n",
    "    sentence = re.sub(r\"\\#(\\w+)\", '', sentence) # remove hashtags\n",
    "    sentence = re.sub(r\"\\$(\\w+)\", '', sentence) # remove cashtags\n",
    "    sentence = sentence.replace(\"-\",' ')\n",
    "    tokens = sentence.split()\n",
    "    tokens = [remove_punctuation(w) for w in tokens] # remove punctuations\n",
    "    stop_words = set(stopwords.words('english')) # remove stopwords\n",
    "    tokens = [w for w in tokens if not w in stop_words]\n",
    "    remove_digits = str.maketrans('', '', digits)\n",
    "    tokens = [w.translate(remove_digits) for w in tokens]\n",
    "    tokens = [w.strip() for w in tokens]\n",
    "    tokens = [w for w in tokens if w!=\"\"]\n",
    "    tokens = ' '.join(tokens)\n",
    "    return tokens"
   ]
  },
  {
   "cell_type": "code",
   "execution_count": 9,
   "id": "brilliant-composition",
   "metadata": {},
   "outputs": [],
   "source": [
    "train.data = train.data.apply(lambda sentence:clean_sentence(sentence))\n",
    "test.data = test.data.apply(lambda sentence:clean_sentence(sentence))"
   ]
  },
  {
   "cell_type": "code",
   "execution_count": 10,
   "id": "another-green",
   "metadata": {},
   "outputs": [],
   "source": [
    "def rem_latin_a(sentences):\n",
    "    sentences = sentences.replace(\"â\", \"\")\n",
    "    return sentences\n",
    "\n",
    "train.data = train.data.apply(lambda sentences:rem_latin_a(sentences))\n",
    "test.data = test.data.apply(lambda sentences:rem_latin_a(sentences))"
   ]
  },
  {
   "cell_type": "code",
   "execution_count": 11,
   "id": "better-programmer",
   "metadata": {},
   "outputs": [],
   "source": [
    "train['data'].replace('', np.nan, inplace=True)\n",
    "test['data'].replace('', np.nan, inplace=True)"
   ]
  },
  {
   "cell_type": "code",
   "execution_count": 12,
   "id": "fifth-resource",
   "metadata": {},
   "outputs": [],
   "source": [
    "# Originally there were 41157 rows, now it has become 41106. The training dataset was reduced by 51 lines.\n",
    "train.dropna(subset=['data'], inplace=True)\n",
    "\n",
    "# Originally there were 3798 lines, now it has become 3795. The test dataset was reduced by 3 lines.\n",
    "test.dropna(subset=['data'], inplace=True)"
   ]
  },
  {
   "cell_type": "code",
   "execution_count": 13,
   "id": "tight-award",
   "metadata": {},
   "outputs": [],
   "source": [
    "# Train data\n",
    "train_data = train.data\n",
    "train_label = train.label\n",
    "\n",
    "# Test data\n",
    "test_data = test.data\n",
    "test_label = test.label"
   ]
  },
  {
   "cell_type": "code",
   "execution_count": 14,
   "id": "individual-relationship",
   "metadata": {},
   "outputs": [
    {
     "data": {
      "image/png": "[encoded data removed]",
      "text/plain": [
       "<Figure size 432x288 with 1 Axes>"
      ]
     },
     "metadata": {
      "needs_background": "light"
     },
     "output_type": "display_data"
    }
   ],
   "source": [
    "sns.countplot(x=train_label)\n",
    "plt.title('The number of elements in each class in the train data', fontdict={'fontname': 'Comic Sans MS', 'fontsize': 15})\n",
    "plt.tight_layout()\n",
    "plt.show()"
   ]
  },
  {
   "cell_type": "code",
   "execution_count": 15,
   "id": "swedish-transcript",
   "metadata": {},
   "outputs": [
    {
     "data": {
      "image/png": "[encoded data removed]",
      "text/plain": [
       "<Figure size 432x288 with 1 Axes>"
      ]
     },
     "metadata": {
      "needs_background": "light"
     },
     "output_type": "display_data"
    }
   ],
   "source": [
    "sns.countplot(x=test_label)\n",
    "plt.title('The number of elements in each class in the test data', fontdict={'fontname': 'Comic Sans MS', 'fontsize': 15})\n",
    "plt.tight_layout()\n",
    "plt.show()"
   ]
  },
  {
   "cell_type": "code",
   "execution_count": 16,
   "id": "straight-creature",
   "metadata": {},
   "outputs": [],
   "source": [
    "train_label = pd.get_dummies(train_label)\n",
    "test_label = pd.get_dummies(test_label)"
   ]
  },
  {
   "cell_type": "code",
   "execution_count": 17,
   "id": "abandoned-packet",
   "metadata": {},
   "outputs": [
    {
     "data": {
      "text/html": [
       "<div>\n",
       "<style scoped>\n",
       "    .dataframe tbody tr th:only-of-type {\n",
       "        vertical-align: middle;\n",
       "    }\n",
       "\n",
       "    .dataframe tbody tr th {\n",
       "        vertical-align: top;\n",
       "    }\n",
       "\n",
       "    .dataframe thead th {\n",
       "        text-align: right;\n",
       "    }\n",
       "</style>\n",
       "<table border=\"1\" class=\"dataframe\">\n",
       "  <thead>\n",
       "    <tr style=\"text-align: right;\">\n",
       "      <th></th>\n",
       "      <th>-1</th>\n",
       "      <th>0</th>\n",
       "      <th>1</th>\n",
       "    </tr>\n",
       "  </thead>\n",
       "  <tbody>\n",
       "    <tr>\n",
       "      <th>1</th>\n",
       "      <td>0</td>\n",
       "      <td>0</td>\n",
       "      <td>1</td>\n",
       "    </tr>\n",
       "    <tr>\n",
       "      <th>2</th>\n",
       "      <td>0</td>\n",
       "      <td>0</td>\n",
       "      <td>1</td>\n",
       "    </tr>\n",
       "    <tr>\n",
       "      <th>3</th>\n",
       "      <td>0</td>\n",
       "      <td>0</td>\n",
       "      <td>1</td>\n",
       "    </tr>\n",
       "    <tr>\n",
       "      <th>4</th>\n",
       "      <td>1</td>\n",
       "      <td>0</td>\n",
       "      <td>0</td>\n",
       "    </tr>\n",
       "    <tr>\n",
       "      <th>5</th>\n",
       "      <td>0</td>\n",
       "      <td>0</td>\n",
       "      <td>1</td>\n",
       "    </tr>\n",
       "    <tr>\n",
       "      <th>...</th>\n",
       "      <td>...</td>\n",
       "      <td>...</td>\n",
       "      <td>...</td>\n",
       "    </tr>\n",
       "    <tr>\n",
       "      <th>41152</th>\n",
       "      <td>0</td>\n",
       "      <td>1</td>\n",
       "      <td>0</td>\n",
       "    </tr>\n",
       "    <tr>\n",
       "      <th>41153</th>\n",
       "      <td>1</td>\n",
       "      <td>0</td>\n",
       "      <td>0</td>\n",
       "    </tr>\n",
       "    <tr>\n",
       "      <th>41154</th>\n",
       "      <td>0</td>\n",
       "      <td>0</td>\n",
       "      <td>1</td>\n",
       "    </tr>\n",
       "    <tr>\n",
       "      <th>41155</th>\n",
       "      <td>0</td>\n",
       "      <td>1</td>\n",
       "      <td>0</td>\n",
       "    </tr>\n",
       "    <tr>\n",
       "      <th>41156</th>\n",
       "      <td>1</td>\n",
       "      <td>0</td>\n",
       "      <td>0</td>\n",
       "    </tr>\n",
       "  </tbody>\n",
       "</table>\n",
       "<p>41106 rows × 3 columns</p>\n",
       "</div>"
      ],
      "text/plain": [
       "       -1   0   1\n",
       "1       0   0   1\n",
       "2       0   0   1\n",
       "3       0   0   1\n",
       "4       1   0   0\n",
       "5       0   0   1\n",
       "...    ..  ..  ..\n",
       "41152   0   1   0\n",
       "41153   1   0   0\n",
       "41154   0   0   1\n",
       "41155   0   1   0\n",
       "41156   1   0   0\n",
       "\n",
       "[41106 rows x 3 columns]"
      ]
     },
     "execution_count": 17,
     "metadata": {},
     "output_type": "execute_result"
    }
   ],
   "source": [
    "train_label"
   ]
  },
  {
   "cell_type": "code",
   "execution_count": 18,
   "id": "seven-livestock",
   "metadata": {},
   "outputs": [],
   "source": [
    "lemmatizer = WordNetLemmatizer()\n",
    "\n",
    "# Function to convert nltk tag to wordnet tag\n",
    "def nltk_tag_to_wordnet_tag(nltk_tag):\n",
    "    if nltk_tag.startswith('J'):\n",
    "        return wordnet.ADJ\n",
    "    elif nltk_tag.startswith('V'):\n",
    "        return wordnet.VERB\n",
    "    elif nltk_tag.startswith('N'):\n",
    "        return wordnet.NOUN\n",
    "    elif nltk_tag.startswith('R'):\n",
    "        return wordnet.ADV\n",
    "    else:\n",
    "        return None\n",
    "\n",
    "# Function below is necessery to find lemma of each word\n",
    "def lemmatize_sentence(de_punct_sent):\n",
    "    # Tokenize the sentence and find the POS tag for each token\n",
    "    nltk_tagged = nltk.pos_tag(nltk.word_tokenize(de_punct_sent))\n",
    "    # Tuple of (token, wordnet_tag)\n",
    "    wordnet_tagged = map(lambda x: (x[0], nltk_tag_to_wordnet_tag(x[1])), nltk_tagged)\n",
    "    lemmatized_sentence = []\n",
    "    for word, tag in wordnet_tagged:\n",
    "        if tag is None:\n",
    "            # If there is no available tag, append the token as is\n",
    "            lemmatized_sentence.append(word)\n",
    "        else:\n",
    "            # else use the tag to lemmatize the token\n",
    "            lemmatized_sentence.append(lemmatizer.lemmatize(word, tag))\n",
    "    return \" \".join(lemmatized_sentence)"
   ]
  },
  {
   "cell_type": "code",
   "execution_count": 25,
   "id": "generic-theme",
   "metadata": {},
   "outputs": [],
   "source": [
    "train_lem = [lemmatize_sentence(i) for i in train_data]\n",
    "test_lem = [lemmatize_sentence(i) for i in test_data]"
   ]
  },
  {
   "cell_type": "code",
   "execution_count": 20,
   "id": "standard-burton",
   "metadata": {},
   "outputs": [
    {
     "name": "stderr",
     "output_type": "stream",
     "text": [
      "[nltk_data] Downloading package punkt to\n",
      "[nltk_data]     C:\\Users\\AVINASH\\AppData\\Roaming\\nltk_data...\n",
      "[nltk_data]   Unzipping tokenizers\\punkt.zip.\n"
     ]
    },
    {
     "data": {
      "text/plain": [
       "True"
      ]
     },
     "execution_count": 20,
     "metadata": {},
     "output_type": "execute_result"
    }
   ],
   "source": [
    "nltk.download('punkt')\n"
   ]
  },
  {
   "cell_type": "code",
   "execution_count": 22,
   "id": "compact-occasions",
   "metadata": {},
   "outputs": [
    {
     "name": "stderr",
     "output_type": "stream",
     "text": [
      "[nltk_data] Downloading package averaged_perceptron_tagger to\n",
      "[nltk_data]     C:\\Users\\AVINASH\\AppData\\Roaming\\nltk_data...\n",
      "[nltk_data]   Unzipping taggers\\averaged_perceptron_tagger.zip.\n"
     ]
    },
    {
     "data": {
      "text/plain": [
       "True"
      ]
     },
     "execution_count": 22,
     "metadata": {},
     "output_type": "execute_result"
    }
   ],
   "source": [
    "nltk.download('averaged_perceptron_tagger')"
   ]
  },
  {
   "cell_type": "code",
   "execution_count": 24,
   "id": "subsequent-mozambique",
   "metadata": {},
   "outputs": [
    {
     "name": "stderr",
     "output_type": "stream",
     "text": [
      "[nltk_data] Downloading package wordnet to\n",
      "[nltk_data]     C:\\Users\\AVINASH\\AppData\\Roaming\\nltk_data...\n",
      "[nltk_data]   Unzipping corpora\\wordnet.zip.\n"
     ]
    },
    {
     "data": {
      "text/plain": [
       "True"
      ]
     },
     "execution_count": 24,
     "metadata": {},
     "output_type": "execute_result"
    }
   ],
   "source": [
    "nltk.download('wordnet')"
   ]
  },
  {
   "cell_type": "code",
   "execution_count": 26,
   "id": "faced-commander",
   "metadata": {},
   "outputs": [
    {
     "name": "stdout",
     "output_type": "stream",
     "text": [
      "Found 31903 unique tokens.\n"
     ]
    }
   ],
   "source": [
    "samples_1 = train_lem\n",
    "samples_2 = test_lem\n",
    "\n",
    "tokenizer = Tokenizer(num_words=25000) # 25 000 most frequently used words\n",
    "tokenizer.fit_on_texts(samples_1) # Creat an index of all words from training data\n",
    "\n",
    "# Convert strings to integer index lists\n",
    "\n",
    "# After that, we pass the ready-made (from the line above) indexes for all words from train\n",
    "train_data = tokenizer.texts_to_sequences(samples_1)\n",
    "\n",
    "# And for test. So, we should get the same word indexes in the two texts\n",
    "test_data = tokenizer.texts_to_sequences(samples_2)\n",
    "\n",
    "word_index = tokenizer.word_index # Find out the calculated index of words\n",
    "print('Found %s unique tokens.' % len(word_index))"
   ]
  },
  {
   "cell_type": "code",
   "execution_count": 27,
   "id": "direct-catalog",
   "metadata": {},
   "outputs": [
    {
     "data": {
      "image/png": "[encoded data removed]",
      "text/plain": [
       "<Figure size 432x288 with 1 Axes>"
      ]
     },
     "metadata": {
      "needs_background": "light"
     },
     "output_type": "display_data"
    }
   ],
   "source": [
    "lens =  [len(s) for s in train_data]\n",
    "\n",
    "plt.title('The maximum number of words in a sentence', fontdict={'fontname': 'Comic Sans MS', 'fontsize': 17})\n",
    "plt.xlabel('The max number of words in a sentence', fontdict={'fontname': 'Comic Sans MS', 'fontsize': 15})\n",
    "plt.ylabel('The number of sentences', fontdict={'fontname': 'Comic Sans MS', 'fontsize': 15})\n",
    "plt.hist(lens,bins=200)\n",
    "plt.show()"
   ]
  },
  {
   "cell_type": "code",
   "execution_count": 28,
   "id": "spread-gender",
   "metadata": {},
   "outputs": [],
   "source": [
    "maxlen = 40 # maximal length of sentences\n",
    "\n",
    "# Convert lists of integers to a two-dimensional tensor \n",
    "# with integers and with a shape (samples, max. length)\n",
    "\n",
    "train_data = preprocessing.sequence.pad_sequences(train_data, maxlen=maxlen, padding='post', truncating='post') \n",
    "test_data = preprocessing.sequence.pad_sequences(test_data, maxlen=maxlen, padding='post', truncating='post')"
   ]
  },
  {
   "cell_type": "code",
   "execution_count": 29,
   "id": "prepared-fifteen",
   "metadata": {},
   "outputs": [],
   "source": [
    "embedding_dim = 32 # Dimension of the dense embedding.\n",
    "\n",
    "vocab_inp_size = len(word_index) + 1 # Size of the vocabulary\n",
    "\n",
    "hidden_size = 256"
   ]
  },
  {
   "cell_type": "code",
   "execution_count": 30,
   "id": "million-treatment",
   "metadata": {},
   "outputs": [
    {
     "name": "stdout",
     "output_type": "stream",
     "text": [
      "Model: \"sequential\"\n",
      "_________________________________________________________________\n",
      "Layer (type)                 Output Shape              Param #   \n",
      "=================================================================\n",
      "embedding (Embedding)        (None, 40, 32)            1020928   \n",
      "_________________________________________________________________\n",
      "lstm (LSTM)                  (None, 40, 256)           295936    \n",
      "_________________________________________________________________\n",
      "flatten (Flatten)            (None, 10240)             0         \n",
      "_________________________________________________________________\n",
      "dense (Dense)                (None, 3)                 30723     \n",
      "=================================================================\n",
      "Total params: 1,347,587\n",
      "Trainable params: 1,347,587\n",
      "Non-trainable params: 0\n",
      "_________________________________________________________________\n",
      "Epoch 1/10\n",
      "257/257 [==============================] - 63s 243ms/step - loss: 0.4878 - categorical_accuracy: 0.6219 - val_loss: 0.3853 - val_categorical_accuracy: 0.7479\n",
      "Epoch 2/10\n",
      "257/257 [==============================] - 61s 239ms/step - loss: 0.3336 - categorical_accuracy: 0.7870 - val_loss: 0.3103 - val_categorical_accuracy: 0.8088\n",
      "Epoch 3/10\n",
      "257/257 [==============================] - 64s 248ms/step - loss: 0.2831 - categorical_accuracy: 0.8305 - val_loss: 0.2924 - val_categorical_accuracy: 0.8262\n",
      "Epoch 4/10\n",
      "257/257 [==============================] - 62s 240ms/step - loss: 0.2528 - categorical_accuracy: 0.8525 - val_loss: 0.2854 - val_categorical_accuracy: 0.8297\n",
      "Epoch 5/10\n",
      "257/257 [==============================] - 62s 242ms/step - loss: 0.2288 - categorical_accuracy: 0.8679 - val_loss: 0.2760 - val_categorical_accuracy: 0.8348\n",
      "Epoch 6/10\n",
      "257/257 [==============================] - 61s 238ms/step - loss: 0.2125 - categorical_accuracy: 0.8792 - val_loss: 0.2801 - val_categorical_accuracy: 0.8385\n",
      "Epoch 7/10\n",
      "257/257 [==============================] - 61s 238ms/step - loss: 0.1998 - categorical_accuracy: 0.8859 - val_loss: 0.2703 - val_categorical_accuracy: 0.8443\n",
      "Epoch 8/10\n",
      "257/257 [==============================] - 62s 242ms/step - loss: 0.1891 - categorical_accuracy: 0.8939 - val_loss: 0.2973 - val_categorical_accuracy: 0.8328\n",
      "Epoch 9/10\n",
      "257/257 [==============================] - 61s 236ms/step - loss: 0.1800 - categorical_accuracy: 0.8988 - val_loss: 0.2794 - val_categorical_accuracy: 0.8420\n",
      "Epoch 10/10\n",
      "257/257 [==============================] - 62s 240ms/step - loss: 0.1703 - categorical_accuracy: 0.9036 - val_loss: 0.2920 - val_categorical_accuracy: 0.8313\n"
     ]
    }
   ],
   "source": [
    "model = Sequential() \n",
    "\n",
    "# The Embedding layer is necessery in order to convert words (in out case from integers) to vectors\n",
    "model.add(Embedding(input_dim = vocab_inp_size, output_dim = embedding_dim, input_length = maxlen))\n",
    "\n",
    "# Apply Dropout to use recurrent decimation to combat overfitting \n",
    "model.add(LSTM(hidden_size, return_sequences=True, dropout=0.4, recurrent_dropout=0.4)) \n",
    "\n",
    "# Use Flatten() or GlobalMaxPooling1D() to convert 3D output to 2D.\n",
    "# It allows you to add one or more Dense layers to your model \n",
    "model.add(Flatten()) # or model.add(GlobalMaxPooling1D())\n",
    "\n",
    "#model.add(Dense(64, activation='relu'))#as experiment we tried to add one additional layer,but it is not give as higher accuracy\n",
    "#model.add(Dropout(0.4))\n",
    "\n",
    "model.add(Dense(3, activation='softmax'))#activation function for classification\n",
    "\n",
    "model.summary()\n",
    "\n",
    "model.compile(optimizer='rmsprop', loss='binary_crossentropy', metrics=['categorical_accuracy']) \n",
    "\n",
    "history = model.fit(train_data, train_label, epochs=10, batch_size=128, validation_split=0.2)"
   ]
  },
  {
   "cell_type": "code",
   "execution_count": 31,
   "id": "rolled-hardware",
   "metadata": {},
   "outputs": [
    {
     "data": {
      "image/png": "[encoded data removed]",
      "text/plain": [
       "<Figure size 432x288 with 1 Axes>"
      ]
     },
     "metadata": {
      "needs_background": "light"
     },
     "output_type": "display_data"
    },
    {
     "data": {
      "image/png": "[encoded data removed]",
      "text/plain": [
       "<Figure size 432x288 with 1 Axes>"
      ]
     },
     "metadata": {
      "needs_background": "light"
     },
     "output_type": "display_data"
    }
   ],
   "source": [
    "acc = history.history['categorical_accuracy']\n",
    "val_acc = history.history['val_categorical_accuracy'] \n",
    "loss = history.history['loss'] \n",
    "val_loss = history.history['val_loss']\n",
    "\n",
    "epochs = range(1, len(acc) + 1)\n",
    "\n",
    "plt.plot(epochs, acc, 'r', label='Training acc')\n",
    "plt.plot(epochs, val_acc, 'b', label='Validation acc') \n",
    "plt.title('Training and validation accuracy') \n",
    "plt.legend()\n",
    "\n",
    "plt.figure()\n",
    "\n",
    "plt.plot(epochs, loss, 'r', label='Training loss')\n",
    "plt.plot(epochs, val_loss, 'b', label='Validation loss') \n",
    "plt.title('Training and validation loss')\n",
    "plt.legend()\n",
    "\n",
    "plt.show()"
   ]
  },
  {
   "cell_type": "code",
   "execution_count": 32,
   "id": "structural-instruction",
   "metadata": {},
   "outputs": [
    {
     "name": "stdout",
     "output_type": "stream",
     "text": [
      "119/119 [==============================] - 3s 23ms/step - loss: 0.3132 - categorical_accuracy: 0.8200\n"
     ]
    },
    {
     "data": {
      "text/plain": [
       "[0.3132161796092987, 0.8200263381004333]"
      ]
     },
     "execution_count": 32,
     "metadata": {},
     "output_type": "execute_result"
    }
   ],
   "source": [
    "model.evaluate(test_data,test_label)"
   ]
  },
  {
   "cell_type": "code",
   "execution_count": null,
   "id": "naval-soundtrack",
   "metadata": {},
   "outputs": [],
   "source": []
  }
 ],
 "metadata": {
  "kernelspec": {
   "display_name": "Python 3",
   "language": "python",
   "name": "python3"
  },
  "language_info": {
   "codemirror_mode": {
    "name": "ipython",
    "version": 3
   },
   "file_extension": ".py",
   "mimetype": "text/x-python",
   "name": "python",
   "nbconvert_exporter": "python",
   "pygments_lexer": "ipython3",
   "version": "3.7.10"
  }
 },
 "nbformat": 4,
 "nbformat_minor": 5
}
